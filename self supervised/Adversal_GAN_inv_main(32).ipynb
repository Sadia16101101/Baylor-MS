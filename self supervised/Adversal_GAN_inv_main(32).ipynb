{
 "cells": [
  {
   "cell_type": "code",
   "execution_count": 1,
   "id": "IW8es0SUgLUM",
   "metadata": {
    "colab": {
     "base_uri": "https://localhost:8080/"
    },
    "id": "IW8es0SUgLUM",
    "outputId": "58879df5-cbb6-4084-fbba-5037c370e5b5"
   },
   "outputs": [
    {
     "name": "stdout",
     "output_type": "stream",
     "text": [
      "Requirement already satisfied: kornia in c:\\anaconda3\\lib\\site-packages (0.7.0)\n",
      "Requirement already satisfied: packaging in c:\\anaconda3\\lib\\site-packages (from kornia) (21.3)\n",
      "Requirement already satisfied: torch>=1.9.1 in c:\\anaconda3\\lib\\site-packages (from kornia) (2.1.0+cu121)\n",
      "Requirement already satisfied: fsspec in c:\\anaconda3\\lib\\site-packages (from torch>=1.9.1->kornia) (2022.2.0)\n",
      "Requirement already satisfied: typing-extensions in c:\\anaconda3\\lib\\site-packages (from torch>=1.9.1->kornia) (4.1.1)\n",
      "Requirement already satisfied: jinja2 in c:\\anaconda3\\lib\\site-packages (from torch>=1.9.1->kornia) (2.11.3)\n",
      "Requirement already satisfied: filelock in c:\\anaconda3\\lib\\site-packages (from torch>=1.9.1->kornia) (3.6.0)\n",
      "Requirement already satisfied: sympy in c:\\anaconda3\\lib\\site-packages (from torch>=1.9.1->kornia) (1.10.1)\n",
      "Requirement already satisfied: networkx in c:\\anaconda3\\lib\\site-packages (from torch>=1.9.1->kornia) (2.7.1)\n",
      "Requirement already satisfied: MarkupSafe>=0.23 in c:\\anaconda3\\lib\\site-packages (from jinja2->torch>=1.9.1->kornia) (2.0.1)\n",
      "Requirement already satisfied: pyparsing!=3.0.5,>=2.0.2 in c:\\anaconda3\\lib\\site-packages (from packaging->kornia) (3.0.4)\n",
      "Requirement already satisfied: mpmath>=0.19 in c:\\anaconda3\\lib\\site-packages (from sympy->torch>=1.9.1->kornia) (1.2.1)\n",
      "Requirement already satisfied: torchvision in c:\\anaconda3\\lib\\site-packages (0.16.0+cu121)\n",
      "Requirement already satisfied: numpy in c:\\anaconda3\\lib\\site-packages (from torchvision) (1.19.5)\n",
      "Requirement already satisfied: pillow!=8.3.*,>=5.3.0 in c:\\anaconda3\\lib\\site-packages (from torchvision) (9.0.1)\n",
      "Requirement already satisfied: requests in c:\\anaconda3\\lib\\site-packages (from torchvision) (2.27.1)\n",
      "Requirement already satisfied: torch==2.1.0+cu121 in c:\\anaconda3\\lib\\site-packages (from torchvision) (2.1.0+cu121)\n",
      "Requirement already satisfied: filelock in c:\\anaconda3\\lib\\site-packages (from torch==2.1.0+cu121->torchvision) (3.6.0)\n",
      "Requirement already satisfied: fsspec in c:\\anaconda3\\lib\\site-packages (from torch==2.1.0+cu121->torchvision) (2022.2.0)\n",
      "Requirement already satisfied: typing-extensions in c:\\anaconda3\\lib\\site-packages (from torch==2.1.0+cu121->torchvision) (4.1.1)\n",
      "Requirement already satisfied: sympy in c:\\anaconda3\\lib\\site-packages (from torch==2.1.0+cu121->torchvision) (1.10.1)\n",
      "Requirement already satisfied: networkx in c:\\anaconda3\\lib\\site-packages (from torch==2.1.0+cu121->torchvision) (2.7.1)\n",
      "Requirement already satisfied: jinja2 in c:\\anaconda3\\lib\\site-packages (from torch==2.1.0+cu121->torchvision) (2.11.3)\n",
      "Requirement already satisfied: MarkupSafe>=0.23 in c:\\anaconda3\\lib\\site-packages (from jinja2->torch==2.1.0+cu121->torchvision) (2.0.1)\n",
      "Requirement already satisfied: certifi>=2017.4.17 in c:\\anaconda3\\lib\\site-packages (from requests->torchvision) (2021.10.8)\n",
      "Requirement already satisfied: urllib3<1.27,>=1.21.1 in c:\\anaconda3\\lib\\site-packages (from requests->torchvision) (1.26.9)\n",
      "Requirement already satisfied: charset-normalizer~=2.0.0 in c:\\anaconda3\\lib\\site-packages (from requests->torchvision) (2.0.4)\n",
      "Requirement already satisfied: idna<4,>=2.5 in c:\\anaconda3\\lib\\site-packages (from requests->torchvision) (3.3)\n",
      "Requirement already satisfied: mpmath>=0.19 in c:\\anaconda3\\lib\\site-packages (from sympy->torch==2.1.0+cu121->torchvision) (1.2.1)\n"
     ]
    }
   ],
   "source": [
    "!pip install kornia\n",
    "!pip install torchvision\n"
   ]
  },
  {
   "cell_type": "code",
   "execution_count": 2,
   "id": "b2f438b5",
   "metadata": {
    "id": "b2f438b5"
   },
   "outputs": [],
   "source": [
    "import torch\n",
    "import torch.nn as nn\n",
    "import torch.optim as optim\n",
    "from torchvision import datasets, transforms\n",
    "from torch.utils.data import DataLoader\n",
    "import numpy as np\n",
    "import cv2\n",
    "import kornia\n",
    "from skimage.metrics import structural_similarity as ssim\n",
    "import matplotlib.pyplot as plt\n"
   ]
  },
  {
   "cell_type": "code",
   "execution_count": 3,
   "id": "161d512e",
   "metadata": {
    "id": "161d512e"
   },
   "outputs": [],
   "source": [
    "# Define the Generator and Discriminator networks (DCGAN architecture)\n",
    "class Generator(nn.Module):\n",
    "    def __init__(self, latent_dim, img_channels):\n",
    "        super(Generator, self).__init__()\n",
    "        self.model = nn.Sequential(\n",
    "            nn.ConvTranspose2d(latent_dim, 256, kernel_size=4, stride=1, padding=0),\n",
    "            nn.BatchNorm2d(256),\n",
    "            nn.ReLU(),\n",
    "            nn.ConvTranspose2d(256, 128, kernel_size=4, stride=2, padding=1),\n",
    "            nn.BatchNorm2d(128),\n",
    "            nn.ReLU(),\n",
    "            nn.ConvTranspose2d(128, img_channels, kernel_size=4, stride=2, padding=1),\n",
    "            nn.Tanh()\n",
    "        )\n",
    "        self.rotation_head = nn.Linear(768, 4)\n",
    "\n",
    "\n",
    "\n",
    "    def forward(self, z):\n",
    "        img = self.model(z)\n",
    "        rotation_pred = self.rotation_head(img.view(img.size(0), 768))\n",
    "\n",
    "\n",
    "        return img, rotation_pred\n",
    "\n",
    "num_classes = 2\n",
    "\n",
    "class Discriminator(nn.Module):\n",
    "    def __init__(self, img_channels):\n",
    "        super(Discriminator, self).__init__()\n",
    "        self.model = nn.Sequential(\n",
    "            nn.Conv2d(img_channels, 128, kernel_size=4, stride=2, padding=1),\n",
    "            nn.BatchNorm2d(128),\n",
    "            nn.LeakyReLU(0.2),\n",
    "            nn.Conv2d(128, 256, kernel_size=4, stride=2, padding=1),\n",
    "            nn.BatchNorm2d(256),\n",
    "            nn.LeakyReLU(0.2),\n",
    "            nn.Conv2d(256, 1, kernel_size=4, stride=1, padding=0)\n",
    "        )\n",
    "\n",
    "    def forward(self, img):\n",
    "        return self.model(img)\n",
    "\n",
    "\n",
    "\n"
   ]
  },
  {
   "cell_type": "code",
   "execution_count": 4,
   "id": "c9695b67",
   "metadata": {
    "id": "c9695b67"
   },
   "outputs": [],
   "source": [
    "\n",
    "# Hyperparameters\n",
    "latent_dim = 100\n",
    "img_channels = 3  # CIFAR-10 images are in RGB, so 3 channels\n",
    "batch_size = 64\n",
    "lr = 0.0002\n",
    "epochs = 20\n",
    "sample_interval = 100  # Interval to save generated samples\n",
    "\n",
    "# Define the device (GPU if available, otherwise CPU)\n",
    "device = torch.device(\"cuda\" if torch.cuda.is_available() else \"cpu\")\n",
    "\n",
    "# Initialize networks and optimizers\n",
    "generator = Generator(latent_dim, img_channels).to(device)\n",
    "discriminator = Discriminator(img_channels).to(device)\n",
    "\n",
    "optimizer_G = optim.Adam(generator.parameters(), lr=lr)\n",
    "optimizer_D = optim.Adam(discriminator.parameters(), lr=lr)\n",
    "criterion = nn.BCEWithLogitsLoss()\n",
    "\n",
    "\n",
    "transform = transforms.Compose([\n",
    "    transforms.RandomHorizontalFlip(p=0.5),\n",
    "    transforms.Resize(64),\n",
    "    transforms.RandomCrop(32, padding=4),\n",
    "    transforms.ColorJitter(brightness=0.2, contrast=0.2, saturation=0.2, hue=0.1),\n",
    "    transforms.RandomGrayscale(p=0.1),\n",
    "    transforms.RandomPerspective(distortion_scale=0.2, p=0.5, interpolation=3),\n",
    "    transforms.RandomAffine(degrees=15, translate=(0.1, 0.1), scale=(0.8, 1.2), shear=10, interpolation=3, fill=0),\n",
    "    transforms.ToTensor(),\n",
    "    transforms.Normalize((0.5, 0.5, 0.5), (0.5, 0.5, 0.5))  # Adjust these values based on your dataset's specific RGB mean and std\n",
    "])\n",
    "\n",
    "\n",
    "test_transform = transforms.Compose([\n",
    "    transforms.Resize(32),           # Resize to match training images (if you resized them)\n",
    "    transforms.ToTensor(),\n",
    "    transforms.Normalize((0.5, 0.5, 0.5), (0.5, 0.5, 0.5))\n",
    "])\n",
    "\n",
    "\n",
    "\n",
    "\n"
   ]
  },
  {
   "cell_type": "code",
   "execution_count": 5,
   "id": "32ffb3ce",
   "metadata": {},
   "outputs": [],
   "source": [
    "\n",
    "import torch\n",
    "from torchvision import datasets\n",
    "from torch.utils.data import Subset\n",
    "dataset_path = 'C:/Users/sadia_tisha1/Downloads/aqua_data'\n",
    "\n",
    "# Function to check if the file is a PNG\n",
    "def is_png_file(filename):\n",
    "    return filename.endswith('.png')\n",
    "\n",
    "# Create the full dataset with the transform\n",
    "full_dataset = datasets.ImageFolder(root=dataset_path, transform=transform, is_valid_file=is_png_file)\n",
    "\n",
    "# Split the dataset indices\n",
    "train_size = int(0.8 * len(full_dataset))\n",
    "test_size = len(full_dataset) - train_size\n",
    "train_indices, test_indices = torch.utils.data.random_split(range(len(full_dataset)), [train_size, test_size])\n",
    "\n",
    "# Create subsets for training and testing\n",
    "train_subset = Subset(full_dataset, train_indices)\n",
    "test_subset = Subset(full_dataset, test_indices)\n",
    "\n",
    "# Note: Since transforms are already applied to the dataset, you don't need to apply them again.\n",
    "\n",
    "# Create the DataLoaders\n",
    "dataloader = DataLoader(train_subset, batch_size=128, shuffle=True, num_workers=2)\n",
    "test_loader = DataLoader(test_subset, batch_size=128, shuffle=False, num_workers=2)\n",
    "\n"
   ]
  },
  {
   "cell_type": "code",
   "execution_count": 6,
   "id": "4aaf0ec8",
   "metadata": {
    "colab": {
     "base_uri": "https://localhost:8080/"
    },
    "id": "4aaf0ec8",
    "outputId": "c82d598a-60d1-4540-a927-4d75c5815c1d",
    "scrolled": true
   },
   "outputs": [
    {
     "name": "stdout",
     "output_type": "stream",
     "text": [
      "[Epoch 0/20] [Batch 0/141] [D loss: 1.4366655349731445] [G loss: 1.290751576423645] [Rotation loss: 1.392653465270996]\n",
      "[Epoch 0/20] [Batch 100/141] [D loss: 0.005832558497786522] [G loss: 7.847085475921631] [Rotation loss: 1.418060302734375]\n",
      "[Epoch 1/20] [Batch 0/141] [D loss: 0.004586120136082172] [G loss: 7.945211410522461] [Rotation loss: 1.4128549098968506]\n",
      "[Epoch 1/20] [Batch 100/141] [D loss: 0.004017990082502365] [G loss: 8.664215087890625] [Rotation loss: 1.387491226196289]\n",
      "[Epoch 2/20] [Batch 0/141] [D loss: 0.0026012721937149763] [G loss: 7.310260772705078] [Rotation loss: 1.3915303945541382]\n",
      "[Epoch 2/20] [Batch 100/141] [D loss: 0.0012550547253340483] [G loss: 8.940777778625488] [Rotation loss: 1.4055734872817993]\n",
      "[Epoch 3/20] [Batch 0/141] [D loss: 0.0008254771819338202] [G loss: 8.275877952575684] [Rotation loss: 1.38643217086792]\n",
      "[Epoch 3/20] [Batch 100/141] [D loss: 0.0007797866128385067] [G loss: 8.296459197998047] [Rotation loss: 1.3817191123962402]\n",
      "[Epoch 4/20] [Batch 0/141] [D loss: 0.0007080197101458907] [G loss: 8.622419357299805] [Rotation loss: 1.388521432876587]\n",
      "[Epoch 4/20] [Batch 100/141] [D loss: 0.0014961028937250376] [G loss: 8.336366653442383] [Rotation loss: 1.396101951599121]\n",
      "[Epoch 5/20] [Batch 0/141] [D loss: 0.0007086073746904731] [G loss: 8.549124717712402] [Rotation loss: 1.3904619216918945]\n",
      "[Epoch 5/20] [Batch 100/141] [D loss: 0.0008261380135081708] [G loss: 8.34603500366211] [Rotation loss: 1.4045517444610596]\n",
      "[Epoch 6/20] [Batch 0/141] [D loss: 0.0005916634108871222] [G loss: 8.737417221069336] [Rotation loss: 1.3879276514053345]\n",
      "[Epoch 6/20] [Batch 100/141] [D loss: 0.0006947300862520933] [G loss: 8.454833984375] [Rotation loss: 1.362075686454773]\n",
      "[Epoch 7/20] [Batch 0/141] [D loss: 0.002161110518500209] [G loss: 8.496370315551758] [Rotation loss: 1.3819149732589722]\n",
      "[Epoch 7/20] [Batch 100/141] [D loss: 0.0024770209565758705] [G loss: 8.362577438354492] [Rotation loss: 1.4016273021697998]\n",
      "[Epoch 8/20] [Batch 0/141] [D loss: 0.007200902793556452] [G loss: 6.551365852355957] [Rotation loss: 1.3851311206817627]\n",
      "[Epoch 8/20] [Batch 100/141] [D loss: 0.00225662998855114] [G loss: 7.459848403930664] [Rotation loss: 1.386390209197998]\n",
      "[Epoch 9/20] [Batch 0/141] [D loss: 0.0017605430912226439] [G loss: 7.600953102111816] [Rotation loss: 1.3914947509765625]\n",
      "[Epoch 9/20] [Batch 100/141] [D loss: 0.0015689099673181772] [G loss: 8.001224517822266] [Rotation loss: 1.3899224996566772]\n",
      "[Epoch 10/20] [Batch 0/141] [D loss: 0.0009707998251542449] [G loss: 8.015872955322266] [Rotation loss: 1.3862885236740112]\n",
      "[Epoch 10/20] [Batch 100/141] [D loss: 0.00047166060539893806] [G loss: 8.420382499694824] [Rotation loss: 1.3914682865142822]\n",
      "[Epoch 11/20] [Batch 0/141] [D loss: 0.0004156098293606192] [G loss: 8.30953598022461] [Rotation loss: 1.3876694440841675]\n",
      "[Epoch 11/20] [Batch 100/141] [D loss: 0.0006369684706442058] [G loss: 7.815890312194824] [Rotation loss: 1.38881254196167]\n",
      "[Epoch 12/20] [Batch 0/141] [D loss: 0.0006860368303023279] [G loss: 7.875209808349609] [Rotation loss: 1.3813145160675049]\n",
      "[Epoch 12/20] [Batch 100/141] [D loss: 0.000454855733551085] [G loss: 8.12746810913086] [Rotation loss: 1.3823403120040894]\n",
      "[Epoch 13/20] [Batch 0/141] [D loss: 0.00036291260039433837] [G loss: 8.335545539855957] [Rotation loss: 1.3906580209732056]\n",
      "[Epoch 13/20] [Batch 100/141] [D loss: 0.0002969359920825809] [G loss: 8.602470397949219] [Rotation loss: 1.3831411600112915]\n",
      "[Epoch 14/20] [Batch 0/141] [D loss: 0.0003181322244927287] [G loss: 8.519094467163086] [Rotation loss: 1.3820466995239258]\n",
      "[Epoch 14/20] [Batch 100/141] [D loss: 0.0003632542211562395] [G loss: 8.724910736083984] [Rotation loss: 1.3899134397506714]\n",
      "[Epoch 15/20] [Batch 0/141] [D loss: 0.0002832815807778388] [G loss: 8.899940490722656] [Rotation loss: 1.3862476348876953]\n",
      "[Epoch 15/20] [Batch 100/141] [D loss: 0.00010546695557422936] [G loss: 9.628500938415527] [Rotation loss: 1.3810139894485474]\n",
      "[Epoch 16/20] [Batch 0/141] [D loss: 0.00011771144636441022] [G loss: 9.607885360717773] [Rotation loss: 1.3893264532089233]\n",
      "[Epoch 16/20] [Batch 100/141] [D loss: 0.00011178223940078169] [G loss: 9.427984237670898] [Rotation loss: 1.3820695877075195]\n",
      "[Epoch 17/20] [Batch 0/141] [D loss: 0.00010645234578987584] [G loss: 9.90053939819336] [Rotation loss: 1.387754201889038]\n",
      "[Epoch 17/20] [Batch 100/141] [D loss: 9.203645458910614e-05] [G loss: 10.080509185791016] [Rotation loss: 1.3857001066207886]\n",
      "[Epoch 18/20] [Batch 0/141] [D loss: 0.00016340312140528113] [G loss: 9.39176082611084] [Rotation loss: 1.383925199508667]\n",
      "[Epoch 18/20] [Batch 100/141] [D loss: 0.00039408632437698543] [G loss: 9.16706657409668] [Rotation loss: 1.390451431274414]\n",
      "[Epoch 19/20] [Batch 0/141] [D loss: 0.00025980034843087196] [G loss: 9.546198844909668] [Rotation loss: 1.3867876529693604]\n",
      "[Epoch 19/20] [Batch 100/141] [D loss: 0.00012482986494433135] [G loss: 10.507331848144531] [Rotation loss: 1.3854484558105469]\n"
     ]
    }
   ],
   "source": [
    "import torchvision.utils as vutils\n",
    "\n",
    "# Create lists to store losses\n",
    "d_losses = []\n",
    "g_losses = []\n",
    "rotation_losses = []\n",
    "ssim_values = []\n",
    "\n",
    "\n",
    "# Training loop\n",
    "for epoch in range(epochs):\n",
    "    for i, (imgs, _) in enumerate(dataloader):\n",
    "        batch_size = imgs.size(0)\n",
    "\n",
    "        # Random rotations for self-supervised task\n",
    "        angle_classes = torch.randint(0, 4, (batch_size,)).to(device)\n",
    "        angles = angle_classes.float() * 90.0 * (np.pi/180.0)  # Convert to radians\n",
    "        # Ensure imgs is on the same device as angles\n",
    "        imgs = imgs.to(device)\n",
    "\n",
    "        # Now perform the rotation\n",
    "        rotated_imgs = kornia.geometry.rotate(imgs, angles)\n",
    "\n",
    "        #rotated_imgs = kornia.geometry.rotate(imgs, angles)\n",
    "\n",
    "        # Train Discriminator on rotated real images\n",
    "        optimizer_D.zero_grad()\n",
    "        real_outputs = discriminator(rotated_imgs)\n",
    "        real_labels = torch.ones_like(real_outputs)\n",
    "        real_loss = criterion(real_outputs, real_labels)\n",
    "\n",
    "        noise = torch.randn(batch_size, latent_dim, 1, 1).to(device)\n",
    "        fake_images, _ = generator(noise)\n",
    "        fake_outputs = discriminator(fake_images.detach())\n",
    "        fake_labels = torch.zeros_like(fake_outputs)\n",
    "        fake_loss = criterion(fake_outputs, fake_labels)\n",
    "\n",
    "        d_loss = real_loss + fake_loss\n",
    "        d_loss.backward()\n",
    "        optimizer_D.step()\n",
    "\n",
    "        # Train Generator on fake images and rotation prediction\n",
    "        optimizer_G.zero_grad()\n",
    "        fake_outputs = discriminator(fake_images)\n",
    "        g_loss = criterion(fake_outputs, torch.ones_like(fake_outputs))\n",
    "\n",
    "        _, rotation_preds = generator(noise)\n",
    "        rot_loss = nn.CrossEntropyLoss()(rotation_preds, angle_classes)\n",
    "\n",
    "        total_g_loss = g_loss + rot_loss\n",
    "        total_g_loss.backward()\n",
    "        optimizer_G.step()\n",
    "\n",
    "        # Print progress\n",
    "        if i % 100 == 0:\n",
    "            print(f\"[Epoch {epoch}/{epochs}] [Batch {i}/{len(dataloader)}] [D loss: {d_loss.item()}] [G loss: {g_loss.item()}] [Rotation loss: {rot_loss.item()}]\")\n",
    "\n",
    "        # Append losses\n",
    "        d_losses.append(d_loss.item())\n",
    "        g_losses.append(g_loss.item())\n",
    "        rotation_losses.append(rot_loss.item())\n",
    "\n",
    "    # Save generated images at specified intervals\n",
    "    if epoch % sample_interval == 0:\n",
    "        with torch.no_grad():\n",
    "            noise = torch.randn(25, latent_dim, 1, 1).to(device)\n",
    "            generated_images, _ = generator(noise)\n",
    "            generated_images = 0.5 * generated_images + 0.5  # Rescale to [0, 1]\n",
    "\n",
    "\n",
    "\n",
    "\n",
    "            # # Plot the generated images\n",
    "            # fig, ax = plt.subplots()\n",
    "            # ax.imshow(np.transpose(vutils.make_grid(generated_images.device(), padding=2, normalize=True), (1,2,0)))\n",
    "            # plt.show()\n",
    "\n",
    "\n"
   ]
  },
  {
   "cell_type": "code",
   "execution_count": 7,
   "id": "79592c8c",
   "metadata": {
    "id": "79592c8c"
   },
   "outputs": [],
   "source": [
    "\n",
    "# # Save the generator and discriminator models\n",
    "torch.save(generator.state_dict(), 'generator.pth')\n",
    "torch.save(discriminator.state_dict(), 'discriminator.pth')\n"
   ]
  },
  {
   "cell_type": "code",
   "execution_count": 8,
   "id": "5c863017",
   "metadata": {
    "colab": {
     "base_uri": "https://localhost:8080/",
     "height": 487
    },
    "id": "5c863017",
    "outputId": "cb965030-b196-4840-bc2c-bf45bbd86846"
   },
   "outputs": [
    {
     "data": {
      "image/png": "[encoded data removed]",
      "text/plain": [
       "<Figure size 720x360 with 1 Axes>"
      ]
     },
     "metadata": {
      "needs_background": "light"
     },
     "output_type": "display_data"
    }
   ],
   "source": [
    "# Plot losses\n",
    "plt.figure(figsize=(10, 5))\n",
    "plt.plot(d_losses, label=\"Discriminator Loss\")\n",
    "plt.plot(g_losses, label=\"Generator Loss\")\n",
    "plt.plot(rotation_losses, label=\"Rotation Loss\")\n",
    "plt.legend()\n",
    "plt.xlabel(\"Iteration\")\n",
    "plt.ylabel(\"Loss\")\n",
    "plt.title(\"GAN Losses Over Training\")\n",
    "plt.show()\n",
    "\n"
   ]
  },
  {
   "cell_type": "code",
   "execution_count": 9,
   "id": "5b4ef182",
   "metadata": {
    "id": "5b4ef182"
   },
   "outputs": [],
   "source": [
    "# import matplotlib.pyplot as plt\n",
    "# import torchvision.utils as vutils\n",
    "\n",
    "# # Load the saved generator model\n",
    "# generator.load_state_dict(torch.load('generator.pth'))\n",
    "# generator.eval()\n",
    "\n",
    "# # Generate a batch of fake images\n",
    "# with torch.no_grad():\n",
    "#     noise = torch.randn(25, latent_dim, 1, 1)\n",
    "#     generated_images, _ = generator(noise)\n",
    "\n",
    "#     generated_images = 0.5 * generated_images + 0.5  # Rescale to [0, 1]\n",
    "\n",
    "\n",
    "# # Display the generated images in a grid\n",
    "# fig = plt.figure(figsize=(5, 5))\n",
    "# plt.axis(\"off\")\n",
    "# plt.title(\"Generated Images\")\n",
    "# plt.imshow(np.transpose(vutils.make_grid(generated_images, padding=2, normalize=True), (1, 2, 0)))\n",
    "# plt.show()\n"
   ]
  },
  {
   "cell_type": "code",
   "execution_count": 10,
   "id": "ZjL4zlT4iTI9",
   "metadata": {
    "id": "ZjL4zlT4iTI9"
   },
   "outputs": [],
   "source": [
    "class DiscriminatorForClassification(nn.Module):\n",
    "    def __init__(self, img_channels, num_classes=10):\n",
    "        super(DiscriminatorForClassification, self).__init__()\n",
    "        # Define your convolutional layers here\n",
    "        self.features = nn.Sequential(\n",
    "            # Assuming these are your convolutional layers\n",
    "            nn.Conv2d(img_channels, 128, kernel_size=4, stride=2, padding=1),\n",
    "            nn.BatchNorm2d(128),\n",
    "            nn.LeakyReLU(0.2),\n",
    "            nn.Conv2d(128, 256, kernel_size=4, stride=2, padding=1),\n",
    "            nn.BatchNorm2d(256),\n",
    "            nn.LeakyReLU(0.2),\n",
    "            # Add more layers as needed\n",
    "        )\n",
    "\n",
    "        self.flatten_size = self._get_flatten_size((img_channels, 32, 32))\n",
    "        self.classifier = nn.Sequential(\n",
    "            nn.Linear(self.flatten_size, num_classes)\n",
    "        )\n",
    "\n",
    "    def _get_flatten_size(self, input_shape):\n",
    "        with torch.no_grad():\n",
    "            input = torch.zeros(1, *input_shape)\n",
    "            output = self.features(input)\n",
    "            return int(np.prod(output.size()[1:]))\n",
    "\n",
    "    def forward(self, img):\n",
    "        out = self.features(img)\n",
    "        out = out.view(out.size(0), -1)\n",
    "        class_output = self.classifier(out)\n",
    "        return class_output\n",
    "\n"
   ]
  },
  {
   "cell_type": "code",
   "execution_count": 11,
   "id": "5b0b0bad",
   "metadata": {
    "colab": {
     "base_uri": "https://localhost:8080/",
     "height": 453
    },
    "id": "5b0b0bad",
    "outputId": "b9eccecd-cead-4c74-d524-e217e8dabb5a"
   },
   "outputs": [
    {
     "name": "stdout",
     "output_type": "stream",
     "text": [
      "Epoch [1/30], Step [100/141], Loss: 0.3307065963745117\n",
      "Epoch [2/30], Step [100/141], Loss: 0.24058350920677185\n",
      "Epoch [3/30], Step [100/141], Loss: 0.3116762042045593\n",
      "Epoch [4/30], Step [100/141], Loss: 0.3828204274177551\n",
      "Epoch [5/30], Step [100/141], Loss: 0.2813694179058075\n",
      "Epoch [6/30], Step [100/141], Loss: 0.3732755184173584\n",
      "Epoch [7/30], Step [100/141], Loss: 0.341511994600296\n",
      "Epoch [8/30], Step [100/141], Loss: 0.320637047290802\n",
      "Epoch [9/30], Step [100/141], Loss: 0.2439800351858139\n",
      "Epoch [10/30], Step [100/141], Loss: 0.34256407618522644\n",
      "Epoch [11/30], Step [100/141], Loss: 0.3474022150039673\n",
      "Epoch [12/30], Step [100/141], Loss: 0.23454244434833527\n",
      "Epoch [13/30], Step [100/141], Loss: 0.28731104731559753\n",
      "Epoch [14/30], Step [100/141], Loss: 0.2475084811449051\n",
      "Epoch [15/30], Step [100/141], Loss: 0.3330567181110382\n",
      "Epoch [16/30], Step [100/141], Loss: 0.22888042032718658\n",
      "Epoch [17/30], Step [100/141], Loss: 0.3277978003025055\n",
      "Epoch [18/30], Step [100/141], Loss: 0.2035401165485382\n",
      "Epoch [19/30], Step [100/141], Loss: 0.2453831434249878\n",
      "Epoch [20/30], Step [100/141], Loss: 0.31506919860839844\n",
      "Epoch [21/30], Step [100/141], Loss: 0.25449106097221375\n",
      "Epoch [22/30], Step [100/141], Loss: 0.3195529282093048\n",
      "Epoch [23/30], Step [100/141], Loss: 0.2250010371208191\n",
      "Epoch [24/30], Step [100/141], Loss: 0.22987708449363708\n",
      "Epoch [25/30], Step [100/141], Loss: 0.251629114151001\n",
      "Epoch [26/30], Step [100/141], Loss: 0.17788858711719513\n",
      "Epoch [27/30], Step [100/141], Loss: 0.1334451138973236\n",
      "Epoch [28/30], Step [100/141], Loss: 0.2680758237838745\n",
      "Epoch [29/30], Step [100/141], Loss: 0.2458912432193756\n",
      "Epoch [30/30], Step [100/141], Loss: 0.12860417366027832\n"
     ]
    }
   ],
   "source": [
    "# Load the discriminator with the pre-trained weights\n",
    "pretrained_discriminator = Discriminator(img_channels).to(device)\n",
    "pretrained_discriminator.load_state_dict(torch.load('discriminator.pth'))\n",
    "\n",
    "# Create the new discriminator for classification\n",
    "discriminator_classifier = DiscriminatorForClassification(img_channels).to(device)\n",
    "\n",
    "# Transfer weights from pretrained discriminator, except for the classifier layer\n",
    "discriminator_classifier.features.load_state_dict(pretrained_discriminator.model.state_dict(), strict=False)\n",
    "\n",
    "# Define a new optimizer and loss function for fine-tuning\n",
    "optimizer = optim.Adam(discriminator_classifier.parameters(), lr=0.0002)\n",
    "criterion = nn.CrossEntropyLoss()\n",
    "\n",
    "# Fine-tuning loop\n",
    "for epoch in range(30):\n",
    "    for i, (imgs, labels) in enumerate(dataloader):\n",
    "        #imgs, labels = imgs, labels\n",
    "        imgs, labels = imgs.to(device), labels.to(device)\n",
    "\n",
    "        # Forward pass\n",
    "        outputs = discriminator_classifier(imgs)\n",
    "        loss = criterion(outputs, labels)\n",
    "\n",
    "        # Backward and optimize\n",
    "        optimizer.zero_grad()\n",
    "        loss.backward()\n",
    "        optimizer.step()\n",
    "\n",
    "        if (i+1) % 100 == 0:\n",
    "            print(f'Epoch [{epoch+1}/{30}], Step [{i+1}/{len(dataloader)}], Loss: {loss.item()}')\n",
    "\n"
   ]
  },
  {
   "cell_type": "code",
   "execution_count": 12,
   "id": "4UZ-xmOxlEYX",
   "metadata": {
    "colab": {
     "base_uri": "https://localhost:8080/"
    },
    "id": "4UZ-xmOxlEYX",
    "outputId": "2475dd9e-7696-4fd6-f990-1f12fb7ec259"
   },
   "outputs": [
    {
     "name": "stdout",
     "output_type": "stream",
     "text": [
      "Accuracy of the model on the test images: 89.7424511545293%\n"
     ]
    }
   ],
   "source": [
    "correct = 0\n",
    "total = 0\n",
    "with torch.no_grad():\n",
    "    for images, labels in test_loader:  # Assuming test_loader is your DataLoader for test data\n",
    "        images, labels = images.to(device), labels.to(device)\n",
    "        outputs = discriminator_classifier(images)\n",
    "        _, predicted = torch.max(outputs.data, 1)\n",
    "        total += labels.size(0)\n",
    "        correct += (predicted == labels).sum().item()\n",
    "\n",
    "accuracy = 100 * correct / total\n",
    "print(f'Accuracy of the model on the test images: {accuracy}%')\n"
   ]
  },
  {
   "cell_type": "code",
   "execution_count": 13,
   "id": "hoEx8wv4lJZW",
   "metadata": {
    "colab": {
     "base_uri": "https://localhost:8080/",
     "height": 872
    },
    "id": "hoEx8wv4lJZW",
    "outputId": "2fc5cda6-3f8d-4d9e-8f19-a55dc139acb8"
   },
   "outputs": [
    {
     "data": {
      "image/png": "[encoded data removed]",
      "text/plain": [
       "<Figure size 720x720 with 2 Axes>"
      ]
     },
     "metadata": {
      "needs_background": "light"
     },
     "output_type": "display_data"
    }
   ],
   "source": [
    "from sklearn.metrics import confusion_matrix\n",
    "import seaborn as sns\n",
    "import matplotlib.pyplot as plt\n",
    "\n",
    "all_predicted = []\n",
    "all_labels = []\n",
    "\n",
    "with torch.no_grad():\n",
    "    for images, labels in test_loader:\n",
    "        images, labels = images.to(device), labels.to(device)\n",
    "        outputs = discriminator_classifier(images)\n",
    "        _, predicted = torch.max(outputs, 1)\n",
    "        all_predicted.extend(predicted.cpu().numpy())\n",
    "        all_labels.extend(labels.cpu().numpy())\n",
    "\n",
    "# Compute the confusion matrix\n",
    "conf_matrix = confusion_matrix(all_labels, all_predicted)\n",
    "\n",
    "# Plot the confusion matrix\n",
    "plt.figure(figsize=(10, 10))\n",
    "sns.heatmap(conf_matrix, annot=True, fmt='d', cmap='Blues')\n",
    "plt.xlabel('Predicted Labels')\n",
    "plt.ylabel('True Labels')\n",
    "plt.title('Confusion Matrix')\n",
    "plt.show()\n"
   ]
  },
  {
   "cell_type": "code",
   "execution_count": 1,
   "id": "2e7431db",
   "metadata": {},
   "outputs": [
    {
     "ename": "NameError",
     "evalue": "name 'torch' is not defined",
     "output_type": "error",
     "traceback": [
      "\u001b[0;31m---------------------------------------------------------------------------\u001b[0m",
      "\u001b[0;31mNameError\u001b[0m                                 Traceback (most recent call last)",
      "Cell \u001b[0;32mIn[1], line 8\u001b[0m\n\u001b[1;32m      5\u001b[0m all_predicted \u001b[38;5;241m=\u001b[39m []\n\u001b[1;32m      6\u001b[0m all_labels \u001b[38;5;241m=\u001b[39m []\n\u001b[0;32m----> 8\u001b[0m \u001b[38;5;28;01mwith\u001b[39;00m torch\u001b[38;5;241m.\u001b[39mno_grad():\n\u001b[1;32m      9\u001b[0m     \u001b[38;5;28;01mfor\u001b[39;00m images, labels \u001b[38;5;129;01min\u001b[39;00m test_loader:\n\u001b[1;32m     10\u001b[0m         images, labels \u001b[38;5;241m=\u001b[39m images\u001b[38;5;241m.\u001b[39mto(device), labels\u001b[38;5;241m.\u001b[39mto(device)\n",
      "\u001b[0;31mNameError\u001b[0m: name 'torch' is not defined"
     ]
    }
   ],
   "source": [
    "from sklearn.metrics import confusion_matrix\n",
    "import seaborn as sns\n",
    "import matplotlib.pyplot as plt\n",
    "\n",
    "all_predicted = []\n",
    "all_labels = []\n",
    "\n",
    "with torch.no_grad():\n",
    "    for images, labels in test_loader:\n",
    "        images, labels = images.to(device), labels.to(device)\n",
    "        outputs = discriminator_classifier(images)\n",
    "        _, predicted = torch.max(outputs, 1)\n",
    "        all_predicted.extend(predicted.cpu().numpy())\n",
    "        all_labels.extend(labels.cpu().numpy())\n",
    "\n",
    "# Compute the confusion matrix\n",
    "conf_matrix = confusion_matrix(all_labels, all_predicted)\n",
    "\n",
    "# Plot the confusion matrix\n",
    "plt.figure(figsize=(10, 10))\n",
    "sns.heatmap(conf_matrix, annot=True, fmt='d', cmap='Blues')\n",
    "plt.xlabel('Predicted Labels')\n",
    "plt.ylabel('True Labels')\n",
    "plt.title('Confusion Matrix')\n",
    "plt.show()"
   ]
  },
  {
   "cell_type": "code",
   "execution_count": null,
   "id": "58483352",
   "metadata": {
    "id": "58483352"
   },
   "outputs": [],
   "source": []
  }
 ],
 "metadata": {
  "accelerator": "GPU",
  "colab": {
   "gpuType": "T4",
   "provenance": []
  },
  "kernelspec": {
   "display_name": "Python 3 (ipykernel)",
   "language": "python",
   "name": "python3"
  },
  "language_info": {
   "codemirror_mode": {
    "name": "ipython",
    "version": 3
   },
   "file_extension": ".py",
   "mimetype": "text/x-python",
   "name": "python",
   "nbconvert_exporter": "python",
   "pygments_lexer": "ipython3",
   "version": "3.11.4"
  }
 },
 "nbformat": 4,
 "nbformat_minor": 5
}
